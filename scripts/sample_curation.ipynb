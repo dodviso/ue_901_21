{
 "cells": [
  {
   "cell_type": "markdown",
   "id": "4bacbd10-5c0f-4696-a5cd-4f0c4ffe3c2e",
   "metadata": {},
   "source": [
    "https://mlang.frama.io/cours-marc-lang/stable/sigmaM2_telea/sigmaM2_projet.html#construire-un-masque-%C3%A0-partir-de-la-bd-for%C3%AAt\n",
    "\n",
    "# **Construire un masque à partir de la BDFORET**\n",
    "\n",
    "\n",
    "### Objectif\n",
    "Le but est de produire un masque raster qui indique les zones à classer en forêt et les zones à ne pas classer, à partir des polygones de la **BD forêt**.\n",
    "\n",
    "### Critères de classification\n",
    "- **Zones à classer** : Ce sont les polygones de la BD forêt, à l'exception de :\n",
    "  - **Lande** et **Formation Herbacée** (qui ne sont pas de la forêt),\n",
    "  - **Forêt ouverte**,\n",
    "  - **Forêt fermée sans couvert arboré**.\n",
    "  \n",
    "### Paramètres du masque\n",
    "Le masque doit être conforme aux spécifications suivantes :\n",
    "\n",
    "- **Format** : GeoTIFF\n",
    "- **Encodage** : 8 bits\n",
    "- **Emprise et résolution spatiale** : Doit correspondre à celles des images **S2** utilisées (après découpe, cf. section Pré-traitement des images)\n",
    "- **Nom du fichier** : `masque_foret.tif`\n",
    "- **Chemin de sortie** : `results/data/img_pretraitees`\n",
    "- **Valeurs du masque** :\n",
    "  - **Zone de forêt** : 1\n",
    "  - **Zone hors forêt** : 0\n",
    "\n",
    "### Exemple de valeurs dans le fichier raster\n",
    "| Classe            | Valeur du pixel |\n",
    "|-------------------|-----------------|\n",
    "| Zone de forêt     | 1               |\n",
    "| Zone hors forêt   | 0               |"
   ]
  },
  {
   "cell_type": "code",
   "execution_count": 214,
   "id": "b1dee630-ddba-4a88-99a6-928baf910c52",
   "metadata": {},
   "outputs": [],
   "source": [
    "shapefile_path = '../../data/project/FORMATION_VEGETALE.shp'\n",
    "s2_image_path = '../../data/images/SENTINEL2B_20220326-105856-076_L2A_T31TCJ_C_V3-0_FRE_B11.tif'  # Exemple d'image Sentinel-2\n",
    "output_path = '../results/data/img_pretraitees/masque_foret.tif'"
   ]
  },
  {
   "cell_type": "code",
   "execution_count": 215,
   "id": "78cbb862-5a29-45bc-bab1-53b710f33398",
   "metadata": {},
   "outputs": [],
   "source": [
    "import geopandas as gpd\n",
    "from osgeo import gdal, ogr\n",
    "import numpy as np"
   ]
  },
  {
   "cell_type": "code",
   "execution_count": 216,
   "id": "95e030d6-7351-4b81-8c4b-419ad915c9ca",
   "metadata": {},
   "outputs": [
    {
     "name": "stdout",
     "output_type": "stream",
     "text": [
      "                         ID CODE_TFV                             TFV  \\\n",
      "0  FORESTIE0000000003100001      FO1  Forêt ouverte de feuillus purs   \n",
      "1  FORESTIE0000000003100002      FO1  Forêt ouverte de feuillus purs   \n",
      "2  FORESTIE0000000003100003      FO1  Forêt ouverte de feuillus purs   \n",
      "3  FORESTIE0000000003100004      FO1  Forêt ouverte de feuillus purs   \n",
      "4  FORESTIE0000000003100005      FO1  Forêt ouverte de feuillus purs   \n",
      "\n",
      "                  TFV_G11   ESSENCE  \\\n",
      "0  Forêt ouverte feuillus  Feuillus   \n",
      "1  Forêt ouverte feuillus  Feuillus   \n",
      "2  Forêt ouverte feuillus  Feuillus   \n",
      "3  Forêt ouverte feuillus  Feuillus   \n",
      "4  Forêt ouverte feuillus  Feuillus   \n",
      "\n",
      "                                            geometry  \n",
      "0  POLYGON ((508756.27 6181000.546, 508761.718 61...  \n",
      "1  POLYGON ((504437.854 6181272.919, 504437.135 6...  \n",
      "2  POLYGON ((508679 6181464, 508680.8 6181463, 50...  \n",
      "3  POLYGON ((509217.516 6181694.51, 509213.5 6181...  \n",
      "4  POLYGON ((508056 6181920, 508053.3 6181915, 50...  \n"
     ]
    }
   ],
   "source": [
    "# Charger le shapefile\n",
    "gdf = gpd.read_file(shapefile_path)\n",
    "\n",
    "# Afficher les premières lignes de la table attributaire\n",
    "print(gdf.head())"
   ]
  },
  {
   "cell_type": "code",
   "execution_count": 217,
   "id": "82bd0d7a-23e7-45ca-9c54-3cf5c2406b75",
   "metadata": {},
   "outputs": [
    {
     "name": "stdout",
     "output_type": "stream",
     "text": [
      "                         ID CODE_TFV                             TFV  \\\n",
      "0  FORESTIE0000000003100001      FO1  Forêt ouverte de feuillus purs   \n",
      "1  FORESTIE0000000003100002      FO1  Forêt ouverte de feuillus purs   \n",
      "2  FORESTIE0000000003100003      FO1  Forêt ouverte de feuillus purs   \n",
      "3  FORESTIE0000000003100004      FO1  Forêt ouverte de feuillus purs   \n",
      "4  FORESTIE0000000003100005      FO1  Forêt ouverte de feuillus purs   \n",
      "\n",
      "                  TFV_G11   ESSENCE  \\\n",
      "0  Forêt ouverte feuillus  Feuillus   \n",
      "1  Forêt ouverte feuillus  Feuillus   \n",
      "2  Forêt ouverte feuillus  Feuillus   \n",
      "3  Forêt ouverte feuillus  Feuillus   \n",
      "4  Forêt ouverte feuillus  Feuillus   \n",
      "\n",
      "                                            geometry  mask  \n",
      "0  POLYGON ((508756.27 6181000.546, 508761.718 61...     0  \n",
      "1  POLYGON ((504437.854 6181272.919, 504437.135 6...     0  \n",
      "2  POLYGON ((508679 6181464, 508680.8 6181463, 50...     0  \n",
      "3  POLYGON ((509217.516 6181694.51, 509213.5 6181...     0  \n",
      "4  POLYGON ((508056 6181920, 508053.3 6181915, 50...     0  \n"
     ]
    }
   ],
   "source": [
    "# Définir les valeurs à exclure\n",
    "excluded_values = ['Formation herbacée' , 'Forêt ouverte de conifères purs' , 'Forêt ouverte de feuillus purs' , 'Forêt ouverte sans couvert arboré' , 'Forêt ouverte à mélange de feuillus et conifères' , 'Lande']\n",
    "\n",
    "# Ajouter la colonne \"mask\" avec la condition spécifiée\n",
    "gdf['mask'] = gdf['TFV'].apply(lambda x: 0 if x in excluded_values else 1)\n",
    "\n",
    "# Afficher les premières lignes pour vérifier\n",
    "print(gdf.head())"
   ]
  },
  {
   "cell_type": "code",
   "execution_count": 218,
   "id": "e93eba0a-1ac2-4fe3-b19c-5cc3e5c0678a",
   "metadata": {},
   "outputs": [],
   "source": [
    "image_s2 = gdal.Open(s2_image_path)"
   ]
  },
  {
   "cell_type": "code",
   "execution_count": 219,
   "id": "ffb45214-650a-40b9-84e4-d812876f58f3",
   "metadata": {},
   "outputs": [
    {
     "name": "stdout",
     "output_type": "stream",
     "text": [
      "(300000.0, 20.0, 0.0, 4900020.0, 0.0, -20.0)\n"
     ]
    }
   ],
   "source": [
    "# Obtenir la projection et l'emprise du raster\n",
    "projection = image_s2.GetProjection()\n",
    "geotransform = image_s2.GetGeoTransform()\n",
    "\n",
    "print(geotransform)\n",
    "\n",
    "raster_minx = geotransform[0]\n",
    "raster_maxy = geotransform[3]\n",
    "raster_resolution_x = geotransform[1]\n",
    "raster_resolution_y = -geotransform[5]\n",
    "raster_maxx = raster_minx + raster_resolution_x * image_s2.RasterXSize\n",
    "raster_miny = raster_maxy + raster_resolution_y * image_s2.RasterYSize"
   ]
  },
  {
   "cell_type": "code",
   "execution_count": 220,
   "id": "eb87bd15-643c-466a-949c-b8b78a9d6efe",
   "metadata": {},
   "outputs": [
    {
     "name": "stdout",
     "output_type": "stream",
     "text": [
      "                         ID CODE_TFV                             TFV  \\\n",
      "0  FORESTIE0000000003100001      FO1  Forêt ouverte de feuillus purs   \n",
      "1  FORESTIE0000000003100002      FO1  Forêt ouverte de feuillus purs   \n",
      "2  FORESTIE0000000003100003      FO1  Forêt ouverte de feuillus purs   \n",
      "3  FORESTIE0000000003100004      FO1  Forêt ouverte de feuillus purs   \n",
      "4  FORESTIE0000000003100005      FO1  Forêt ouverte de feuillus purs   \n",
      "\n",
      "                  TFV_G11   ESSENCE  \\\n",
      "0  Forêt ouverte feuillus  Feuillus   \n",
      "1  Forêt ouverte feuillus  Feuillus   \n",
      "2  Forêt ouverte feuillus  Feuillus   \n",
      "3  Forêt ouverte feuillus  Feuillus   \n",
      "4  Forêt ouverte feuillus  Feuillus   \n",
      "\n",
      "                                            geometry  mask  \n",
      "0  POLYGON ((309032.524 4730491.765, 309037.965 4...     0  \n",
      "1  POLYGON ((304718.567 4730755.446, 304717.85 47...     0  \n",
      "2  POLYGON ((308954.455 4730954.532, 308956.254 4...     0  \n",
      "3  POLYGON ((309491.904 4731185.805, 309487.913 4...     0  \n",
      "4  POLYGON ((308331.3 4731408.808, 308328.613 473...     0  \n"
     ]
    }
   ],
   "source": [
    "gdf = gdf.to_crs(projection)\n",
    "\n",
    "print(gdf.head())"
   ]
  },
  {
   "cell_type": "code",
   "execution_count": 221,
   "id": "c842e237-9c7c-4548-b751-26dcde033de8",
   "metadata": {},
   "outputs": [],
   "source": [
    "# Calculer la largeur et la hauteur du raster de sortie à partir de l'emprise et de la résolution\n",
    "width = abs(int((raster_maxx - raster_minx) / raster_resolution_x))\n",
    "height = abs(int((raster_maxy - raster_miny) / raster_resolution_y))\n",
    "\n",
    "# Créer un raster vide en utilisant GDAL\n",
    "driver = gdal.GetDriverByName('GTiff')\n",
    "out_raster = driver.Create(output_path, width, height, 1, gdal.GDT_Byte)\n",
    "\n",
    "# Définir la géotransformation et la projection pour le raster de sortie\n",
    "out_raster.SetGeoTransform(geotransform)\n",
    "out_raster.SetProjection(projection)\n",
    "\n",
    "# Créer une couche pour la rasterisation\n",
    "out_band = out_raster.GetRasterBand(1)\n",
    "out_band.SetNoDataValue(0)  # Définir la valeur \"no data\"\n",
    "\n",
    "# Initialiser le tableau avec des zéros (fond)\n",
    "raster_data = np.zeros((height, width), dtype=np.uint8)"
   ]
  },
  {
   "cell_type": "code",
   "execution_count": 222,
   "id": "5d9e4bc4-173f-4a73-9937-4987a843da99",
   "metadata": {},
   "outputs": [
    {
     "name": "stderr",
     "output_type": "stream",
     "text": [
      "/opt/conda/lib/python3.12/site-packages/osgeo/gdal.py:8292: RuntimeWarning: Failed to fetch spatial reference on layer layer to build transformer, assuming matching coordinate systems.\n",
      "  return _gdal.RasterizeLayer(*args, **kwargs)\n"
     ]
    },
    {
     "name": "stdout",
     "output_type": "stream",
     "text": [
      "Rasterisation terminée et sauvegardée dans '../results/data/img_pretraitees/masque_foret.tif'\n"
     ]
    }
   ],
   "source": [
    "# Créer une couche mémoire OGR pour la rasterisation\n",
    "mem_driver = ogr.GetDriverByName('Memory')\n",
    "mem_ds = mem_driver.CreateDataSource('memory')\n",
    "layer = mem_ds.CreateLayer('layer', geom_type=ogr.wkbPolygon)\n",
    "\n",
    "# Ajouter un champ 'mask' à la couche mémoire\n",
    "field_defn = ogr.FieldDefn('mask', ogr.OFTInteger)\n",
    "layer.CreateField(field_defn)\n",
    "\n",
    "# Ajouter les géométries et les valeurs du champ 'mask' à la couche mémoire\n",
    "for _, row in gdf.iterrows():\n",
    "    geometry = row['geometry']\n",
    "    mask_value = row['mask']  # Utiliser la valeur du champ 'mask' pour la valeur du pixel\n",
    "    \n",
    "    ogr_geom = ogr.CreateGeometryFromWkt(geometry.wkt)\n",
    "    feature = ogr.Feature(layer.GetLayerDefn())\n",
    "    feature.SetGeometry(ogr_geom)\n",
    "    feature.SetField('mask', mask_value)  # Assigner la valeur de 'mask' au champ 'mask'\n",
    "    layer.CreateFeature(feature)\n",
    "\n",
    "# Rasteriser la couche mémoire en utilisant la valeur du champ 'mask' pour chaque géométrie\n",
    "gdal.RasterizeLayer(out_raster, [1], layer, options=[\"ATTRIBUTE=mask\"])\n",
    "\n",
    "# Sauvegarder et fermer le raster\n",
    "out_raster.FlushCache()\n",
    "del out_raster\n",
    "\n",
    "# Afficher un message\n",
    "print(f\"Rasterisation terminée et sauvegardée dans '{output_path}'\")"
   ]
  }
 ],
 "metadata": {
  "kernelspec": {
   "display_name": "Python 3 (ipykernel)",
   "language": "python",
   "name": "python3"
  },
  "language_info": {
   "codemirror_mode": {
    "name": "ipython",
    "version": 3
   },
   "file_extension": ".py",
   "mimetype": "text/x-python",
   "name": "python",
   "nbconvert_exporter": "python",
   "pygments_lexer": "ipython3",
   "version": "3.12.6"
  }
 },
 "nbformat": 4,
 "nbformat_minor": 5
}
