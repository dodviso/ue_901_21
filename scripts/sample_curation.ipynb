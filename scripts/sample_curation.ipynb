{
 "cells": [
  {
   "cell_type": "markdown",
   "id": "4bacbd10-5c0f-4696-a5cd-4f0c4ffe3c2e",
   "metadata": {},
   "source": [
    "https://mlang.frama.io/cours-marc-lang/stable/sigmaM2_telea/sigmaM2_projet.html#construire-un-masque-%C3%A0-partir-de-la-bd-for%C3%AAt\n",
    "\n",
    "# **Construire un masque à partir de la BDFORET**\n",
    "\n",
    "\n",
    "### Objectif\n",
    "Le but est de produire un masque raster qui indique les zones à classer en forêt et les zones à ne pas classer, à partir des polygones de la **BD forêt**.\n",
    "\n",
    "### Critères de classification\n",
    "- **Zones à classer** : Ce sont les polygones de la BD forêt, à l'exception de :\n",
    "  - **Lande** et **Formation Herbacée** (qui ne sont pas de la forêt),\n",
    "  - **Forêt ouverte**,\n",
    "  - **Forêt fermée sans couvert arboré**.\n",
    "  \n",
    "### Paramètres du masque\n",
    "Le masque doit être conforme aux spécifications suivantes :\n",
    "\n",
    "- **Format** : GeoTIFF\n",
    "- **Encodage** : 8 bits\n",
    "- **Emprise et résolution spatiale** : Doit correspondre à celles des images **S2** utilisées (après découpe, cf. section Pré-traitement des images)\n",
    "- **Nom du fichier** : `masque_foret.tif`\n",
    "- **Chemin de sortie** : `results/data/img_pretraitees`\n",
    "- **Valeurs du masque** :\n",
    "  - **Zone de forêt** : 1\n",
    "  - **Zone hors forêt** : 0\n",
    "\n",
    "### Exemple de valeurs dans le fichier raster\n",
    "| Classe            | Valeur du pixel |\n",
    "|-------------------|-----------------|\n",
    "| Zone de forêt     | 1               |\n",
    "| Zone hors forêt   | 0               |"
   ]
  },
  {
   "cell_type": "code",
   "execution_count": 25,
   "id": "b1dee630-ddba-4a88-99a6-928baf910c52",
   "metadata": {},
   "outputs": [],
   "source": [
    "# Chemins d'accès\n",
    "\n",
    "shapefile_path = '../../data/project/FORMATION_VEGETALE.shp'\n",
    "s2_image_path = '../../data/images/SENTINEL2B_20220326-105856-076_L2A_T31TCJ_C_V3-0_FRE_B11.tif'\n",
    "output_path = '../results/data/img_pretraitees/masque_foret.tif'"
   ]
  },
  {
   "cell_type": "code",
   "execution_count": 26,
   "id": "78cbb862-5a29-45bc-bab1-53b710f33398",
   "metadata": {},
   "outputs": [],
   "source": [
    "# Import bibliothèques\n",
    "\n",
    "import geopandas as gpd\n",
    "from osgeo import gdal, ogr\n",
    "import numpy as np"
   ]
  },
  {
   "cell_type": "code",
   "execution_count": 27,
   "id": "95e030d6-7351-4b81-8c4b-419ad915c9ca",
   "metadata": {},
   "outputs": [
    {
     "name": "stdout",
     "output_type": "stream",
     "text": [
      "                         ID CODE_TFV                             TFV  \\\n",
      "0  FORESTIE0000000003100001      FO1  Forêt ouverte de feuillus purs   \n",
      "1  FORESTIE0000000003100002      FO1  Forêt ouverte de feuillus purs   \n",
      "2  FORESTIE0000000003100003      FO1  Forêt ouverte de feuillus purs   \n",
      "3  FORESTIE0000000003100004      FO1  Forêt ouverte de feuillus purs   \n",
      "4  FORESTIE0000000003100005      FO1  Forêt ouverte de feuillus purs   \n",
      "\n",
      "                  TFV_G11   ESSENCE  \\\n",
      "0  Forêt ouverte feuillus  Feuillus   \n",
      "1  Forêt ouverte feuillus  Feuillus   \n",
      "2  Forêt ouverte feuillus  Feuillus   \n",
      "3  Forêt ouverte feuillus  Feuillus   \n",
      "4  Forêt ouverte feuillus  Feuillus   \n",
      "\n",
      "                                            geometry  mask  \n",
      "0  POLYGON ((508756.27 6181000.546, 508761.718 61...     0  \n",
      "1  POLYGON ((504437.854 6181272.919, 504437.135 6...     0  \n",
      "2  POLYGON ((508679 6181464, 508680.8 6181463, 50...     0  \n",
      "3  POLYGON ((509217.516 6181694.51, 509213.5 6181...     0  \n",
      "4  POLYGON ((508056 6181920, 508053.3 6181915, 50...     0  \n",
      "mask\n",
      "1    18360\n",
      "0     5681\n",
      "Name: count, dtype: int64\n",
      "EPSG:2154\n"
     ]
    }
   ],
   "source": [
    "# Charger le shapefile\n",
    "gdf = gpd.read_file(shapefile_path)\n",
    "\n",
    "# Définir les valeurs à exclure\n",
    "excluded_values = ['Formation herbacée', 'Forêt ouverte de conifères purs', \n",
    "                   'Forêt ouverte de feuillus purs', 'Forêt ouverte sans couvert arboré', \n",
    "                   'Forêt ouverte à mélange de feuillus et conifères', 'Lande']\n",
    "\n",
    "# Ajouter la colonne \"mask\" qui prend valeur 1 ou 0 selon si forêt ou hors forêt\n",
    "gdf['mask'] = gdf['TFV'].apply(lambda x: 0 if x in excluded_values else 1)\n",
    "\n",
    "print(gdf.head())  # Vérifier si le champ 'mask' est correctement ajouté\n",
    "\n",
    "print(gdf['mask'].value_counts())\n",
    "print(gdf.crs)"
   ]
  },
  {
   "cell_type": "markdown",
   "id": "68e83f33-fef1-41fc-b766-cab66e7afaee",
   "metadata": {},
   "source": [
    "-------------------\n",
    "\n",
    "https://mlang.frama.io/cours-marc-lang/stable/sigmaM2_telea/sigmaM2_labworks_write_and_load.html"
   ]
  },
  {
   "cell_type": "code",
   "execution_count": 28,
   "id": "e93eba0a-1ac2-4fe3-b19c-5cc3e5c0678a",
   "metadata": {},
   "outputs": [
    {
     "name": "stdout",
     "output_type": "stream",
     "text": [
      "Géotransformation: (300000.0, 20.0, 0.0, 4900020.0, 0.0, -20.0)\n",
      "PROJCS[\"WGS 84 / UTM zone 31N\",GEOGCS[\"WGS 84\",DATUM[\"WGS_1984\",SPHEROID[\"WGS 84\",6378137,298.257223563,AUTHORITY[\"EPSG\",\"7030\"]],AUTHORITY[\"EPSG\",\"6326\"]],PRIMEM[\"Greenwich\",0,AUTHORITY[\"EPSG\",\"8901\"]],UNIT[\"degree\",0.0174532925199433,AUTHORITY[\"EPSG\",\"9122\"]],AUTHORITY[\"EPSG\",\"4326\"]],PROJECTION[\"Transverse_Mercator\"],PARAMETER[\"latitude_of_origin\",0],PARAMETER[\"central_meridian\",3],PARAMETER[\"scale_factor\",0.9996],PARAMETER[\"false_easting\",500000],PARAMETER[\"false_northing\",0],UNIT[\"metre\",1,AUTHORITY[\"EPSG\",\"9001\"]],AXIS[\"Easting\",EAST],AXIS[\"Northing\",NORTH],AUTHORITY[\"EPSG\",\"32631\"]]\n"
     ]
    }
   ],
   "source": [
    "# Ouvrir l'image\n",
    "image_s2 = gdal.Open(s2_image_path)\n",
    "\n",
    "# Obtenir la géotransformation\n",
    "geotransform = image_s2.GetGeoTransform()\n",
    "print(\"Géotransformation:\", geotransform)\n",
    "\n",
    "projection = image_s2.GetProjection()\n",
    "\n",
    "print(projection)\n",
    "\n",
    "# Extraire les valeurs de la géotransformation\n",
    "raster_minx = geotransform[0]  # Coordonnée X du coin supérieur gauche\n",
    "raster_maxy = geotransform[3]  # Coordonnée Y du coin supérieur gauche\n",
    "raster_resolution_x = geotransform[1]  # Résolution en X\n",
    "raster_resolution_y = -geotransform[5]  # Résolution en Y (valeur négative pour l'axe Y descendant)\n",
    "\n",
    "# Obtenir la taille de l'image (en pixels)\n",
    "raster_x_size = image_s2.RasterXSize  # Nombre de pixels en X\n",
    "raster_y_size = image_s2.RasterYSize  # Nombre de pixels en Y\n",
    "\n",
    "# Calculer l'emprise\n",
    "raster_maxx = raster_minx + raster_resolution_x * raster_x_size\n",
    "raster_miny = raster_maxy - (raster_resolution_y * raster_y_size)"
   ]
  },
  {
   "cell_type": "code",
   "execution_count": 31,
   "id": "eb87bd15-643c-466a-949c-b8b78a9d6efe",
   "metadata": {},
   "outputs": [
    {
     "name": "stdout",
     "output_type": "stream",
     "text": [
      "                         ID CODE_TFV                             TFV  \\\n",
      "0  FORESTIE0000000003100001      FO1  Forêt ouverte de feuillus purs   \n",
      "1  FORESTIE0000000003100002      FO1  Forêt ouverte de feuillus purs   \n",
      "2  FORESTIE0000000003100003      FO1  Forêt ouverte de feuillus purs   \n",
      "3  FORESTIE0000000003100004      FO1  Forêt ouverte de feuillus purs   \n",
      "4  FORESTIE0000000003100005      FO1  Forêt ouverte de feuillus purs   \n",
      "\n",
      "                  TFV_G11   ESSENCE  \\\n",
      "0  Forêt ouverte feuillus  Feuillus   \n",
      "1  Forêt ouverte feuillus  Feuillus   \n",
      "2  Forêt ouverte feuillus  Feuillus   \n",
      "3  Forêt ouverte feuillus  Feuillus   \n",
      "4  Forêt ouverte feuillus  Feuillus   \n",
      "\n",
      "                                            geometry  mask  \n",
      "0  POLYGON ((309032.524 4730491.765, 309037.965 4...     0  \n",
      "1  POLYGON ((304718.567 4730755.446, 304717.85 47...     0  \n",
      "2  POLYGON ((308954.455 4730954.532, 308956.254 4...     0  \n",
      "3  POLYGON ((309491.904 4731185.805, 309487.913 4...     0  \n",
      "4  POLYGON ((308331.3 4731408.808, 308328.613 473...     0  \n"
     ]
    }
   ],
   "source": [
    "gdf = gdf.to_crs(projection)\n",
    "\n",
    "print(gdf.head())\n",
    "\n",
    "# Sauvegarder le GeoDataFrame modifié en tant que shapefile temporaire\n",
    "temp_shapefile_path = '../results/data/img_pretraitees/formation_vegetale_mask.shp'\n",
    "gdf.to_file(temp_shapefile_path)"
   ]
  },
  {
   "cell_type": "markdown",
   "id": "84a2cda9-da01-4d96-bd54-58bf4dffc4eb",
   "metadata": {},
   "source": [
    "----------------\n",
    "\n",
    "https://mlang.frama.io/cours-marc-lang/stable/sigmaM2_telea/sigmaM2_labworks_classifp1.html#ex-2"
   ]
  },
  {
   "cell_type": "code",
   "execution_count": 32,
   "id": "9cf308b3-145c-4685-8681-2cf03e572fd0",
   "metadata": {},
   "outputs": [
    {
     "name": "stdout",
     "output_type": "stream",
     "text": [
      "Exécution de la commande : gdal_rasterize -a mask -tr 20.0 20.0 -te 300000.0 4790220.0 409800.0 4900020.0 -ot Byte -of GTiff \"../results/data/img_pretraitees/formation_vegetale_mask.shp\" \"../results/data/img_pretraitees/masque_foret.tif\"\n",
      "0"
     ]
    },
    {
     "name": "stderr",
     "output_type": "stream",
     "text": [
      "ERROR 1: PROJ: proj_identify: Open of /opt/conda/share/proj failed\n"
     ]
    },
    {
     "name": "stdout",
     "output_type": "stream",
     "text": [
      "...10...20...30...40...50...60...70...80...90...100 - done.\n"
     ]
    },
    {
     "data": {
      "text/plain": [
       "0"
      ]
     },
     "execution_count": 32,
     "metadata": {},
     "output_type": "execute_result"
    }
   ],
   "source": [
    "import os\n",
    "\n",
    "# Définir les paramètres\n",
    "field_name = 'mask'  # Utiliser le champ 'mask' comme champ pour la valeur des pixels\n",
    "\n",
    "# Définir la résolution spatiale et l'emprise\n",
    "spatial_resolution = raster_resolution_x\n",
    "\n",
    "\n",
    "gdf_path = temp_shapefile_path \n",
    "\n",
    "# Définir le chemin du fichier de sortie\n",
    "output_path = output_path  # Remplacez par un chemin valide\n",
    "\n",
    "# Définir le modèle de commande (en ajoutant des guillemets autour des chemins)\n",
    "cmd_pattern = (\n",
    "    \"gdal_rasterize -a {field_name} \"\n",
    "    \"-tr {spatial_resolution} {spatial_resolution} \"\n",
    "    \"-te {xmin} {ymin} {xmax} {ymax} -ot Byte -of GTiff \"\n",
    "    '\"{in_vector}\" \"{out_image}\"'\n",
    ")\n",
    "\n",
    "# Formater la commande avec les paramètres réels\n",
    "cmd = cmd_pattern.format(\n",
    "    in_vector=gdf_path, xmin=raster_minx, ymin=raster_miny, xmax=raster_maxx,\n",
    "    ymax=raster_maxy, out_image=output_path, field_name=field_name,\n",
    "    spatial_resolution=spatial_resolution\n",
    ")\n",
    "\n",
    "# Afficher la commande pour vérification\n",
    "print(\"Exécution de la commande :\", cmd)\n",
    "\n",
    "# Exécuter la commande dans le terminal\n",
    "os.system(cmd)\n"
   ]
  }
 ],
 "metadata": {
  "kernelspec": {
   "display_name": "Python 3 (ipykernel)",
   "language": "python",
   "name": "python3"
  },
  "language_info": {
   "codemirror_mode": {
    "name": "ipython",
    "version": 3
   },
   "file_extension": ".py",
   "mimetype": "text/x-python",
   "name": "python",
   "nbconvert_exporter": "python",
   "pygments_lexer": "ipython3",
   "version": "3.12.6"
  }
 },
 "nbformat": 4,
 "nbformat_minor": 5
}
